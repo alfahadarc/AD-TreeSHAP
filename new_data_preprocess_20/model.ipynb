{
 "cells": [
  {
   "cell_type": "code",
   "execution_count": 1,
   "metadata": {},
   "outputs": [],
   "source": [
    "import numpy as np\n",
    "from sklearn.metrics import accuracy_score\n",
    "from sklearn.model_selection import GroupShuffleSplit\n",
    "from xgboost import XGBClassifier\n",
    "from sklearn.pipeline import Pipeline\n",
    "from xgboost import XGBClassifier\n",
    "from sklearn.model_selection import RandomizedSearchCV\n",
    "import joblib\n",
    "from sklearn.metrics import classification_report\n",
    "\n",
    "\n",
    "\n",
    "from util import multiclass_roc_auc_score"
   ]
  },
  {
   "cell_type": "code",
   "execution_count": 2,
   "metadata": {},
   "outputs": [],
   "source": [
    "npzfile = np.load('data/data_d1_d2_data.npz')\n",
    "features = npzfile['features']\n",
    "labels = npzfile['labels']\n",
    "groups = npzfile['groups']\n",
    "features = np.nan_to_num(features)"
   ]
  },
  {
   "cell_type": "code",
   "execution_count": 3,
   "metadata": {},
   "outputs": [],
   "source": [
    "# GroupShuffleSplit for train-test split\n",
    "gss = GroupShuffleSplit(n_splits=1, train_size=.8, random_state=42)\n",
    "idx_trn, idx_test = next(gss.split(labels, groups=groups))\n",
    "X_train = features[idx_trn, :]\n",
    "X_test = features[idx_test, :]\n",
    "y_train = labels[idx_trn, 1]\n",
    "y_test = labels[idx_test, 1]"
   ]
  },
  {
   "cell_type": "code",
   "execution_count": 4,
   "metadata": {},
   "outputs": [],
   "source": [
    "estimators = [\n",
    "    ('clf', XGBClassifier(objective='multi:softmax', num_class=len(np.unique(3)), random_state=8))\n",
    "]\n",
    "pipe = Pipeline(steps=estimators)\n",
    "search_space = {\n",
    "    'clf__max_depth': [2, 4, 6, 8],\n",
    "    'clf__learning_rate': [0.001, 0.01, 0.1, 0.2, 0.3],\n",
    "    'clf__subsample': [0.5, 0.6, 0.7, 0.8, 0.9, 1.0],\n",
    "    'clf__colsample_bytree': [0.5, 0.6, 0.7, 0.8, 0.9, 1.0],\n",
    "    'clf__colsample_bylevel': [0.5, 0.6, 0.7, 0.8, 0.9, 1.0],\n",
    "    'clf__colsample_bynode': [0.5, 0.6, 0.7, 0.8, 0.9, 1.0],\n",
    "    'clf__reg_alpha': [0.0, 0.1, 0.5, 1.0, 5.0, 10.0],\n",
    "    'clf__reg_lambda': [0.0, 0.1, 0.5, 1.0, 5.0, 10.0],\n",
    "    'clf__gamma': [0.0, 0.1, 0.5, 1.0, 5.0, 10.0],\n",
    "    'clf__objective': ['multi:softmax', 'multi:softprob'],\n",
    "    'clf__num_class': [0, 1, 2, 3, 4, 5, 6, 7, 8],\n",
    "}\n",
    "\n",
    "# Create RandomizedSearchCV object\n",
    "opt = RandomizedSearchCV(pipe, search_space, n_iter=10,cv=5, scoring='accuracy', random_state=8, n_jobs=-1)"
   ]
  },
  {
   "cell_type": "code",
   "execution_count": 5,
   "metadata": {},
   "outputs": [
    {
     "data": {
      "text/html": [
       "<style>#sk-container-id-1 {color: black;}#sk-container-id-1 pre{padding: 0;}#sk-container-id-1 div.sk-toggleable {background-color: white;}#sk-container-id-1 label.sk-toggleable__label {cursor: pointer;display: block;width: 100%;margin-bottom: 0;padding: 0.3em;box-sizing: border-box;text-align: center;}#sk-container-id-1 label.sk-toggleable__label-arrow:before {content: \"▸\";float: left;margin-right: 0.25em;color: #696969;}#sk-container-id-1 label.sk-toggleable__label-arrow:hover:before {color: black;}#sk-container-id-1 div.sk-estimator:hover label.sk-toggleable__label-arrow:before {color: black;}#sk-container-id-1 div.sk-toggleable__content {max-height: 0;max-width: 0;overflow: hidden;text-align: left;background-color: #f0f8ff;}#sk-container-id-1 div.sk-toggleable__content pre {margin: 0.2em;color: black;border-radius: 0.25em;background-color: #f0f8ff;}#sk-container-id-1 input.sk-toggleable__control:checked~div.sk-toggleable__content {max-height: 200px;max-width: 100%;overflow: auto;}#sk-container-id-1 input.sk-toggleable__control:checked~label.sk-toggleable__label-arrow:before {content: \"▾\";}#sk-container-id-1 div.sk-estimator input.sk-toggleable__control:checked~label.sk-toggleable__label {background-color: #d4ebff;}#sk-container-id-1 div.sk-label input.sk-toggleable__control:checked~label.sk-toggleable__label {background-color: #d4ebff;}#sk-container-id-1 input.sk-hidden--visually {border: 0;clip: rect(1px 1px 1px 1px);clip: rect(1px, 1px, 1px, 1px);height: 1px;margin: -1px;overflow: hidden;padding: 0;position: absolute;width: 1px;}#sk-container-id-1 div.sk-estimator {font-family: monospace;background-color: #f0f8ff;border: 1px dotted black;border-radius: 0.25em;box-sizing: border-box;margin-bottom: 0.5em;}#sk-container-id-1 div.sk-estimator:hover {background-color: #d4ebff;}#sk-container-id-1 div.sk-parallel-item::after {content: \"\";width: 100%;border-bottom: 1px solid gray;flex-grow: 1;}#sk-container-id-1 div.sk-label:hover label.sk-toggleable__label {background-color: #d4ebff;}#sk-container-id-1 div.sk-serial::before {content: \"\";position: absolute;border-left: 1px solid gray;box-sizing: border-box;top: 0;bottom: 0;left: 50%;z-index: 0;}#sk-container-id-1 div.sk-serial {display: flex;flex-direction: column;align-items: center;background-color: white;padding-right: 0.2em;padding-left: 0.2em;position: relative;}#sk-container-id-1 div.sk-item {position: relative;z-index: 1;}#sk-container-id-1 div.sk-parallel {display: flex;align-items: stretch;justify-content: center;background-color: white;position: relative;}#sk-container-id-1 div.sk-item::before, #sk-container-id-1 div.sk-parallel-item::before {content: \"\";position: absolute;border-left: 1px solid gray;box-sizing: border-box;top: 0;bottom: 0;left: 50%;z-index: -1;}#sk-container-id-1 div.sk-parallel-item {display: flex;flex-direction: column;z-index: 1;position: relative;background-color: white;}#sk-container-id-1 div.sk-parallel-item:first-child::after {align-self: flex-end;width: 50%;}#sk-container-id-1 div.sk-parallel-item:last-child::after {align-self: flex-start;width: 50%;}#sk-container-id-1 div.sk-parallel-item:only-child::after {width: 0;}#sk-container-id-1 div.sk-dashed-wrapped {border: 1px dashed gray;margin: 0 0.4em 0.5em 0.4em;box-sizing: border-box;padding-bottom: 0.4em;background-color: white;}#sk-container-id-1 div.sk-label label {font-family: monospace;font-weight: bold;display: inline-block;line-height: 1.2em;}#sk-container-id-1 div.sk-label-container {text-align: center;}#sk-container-id-1 div.sk-container {/* jupyter's `normalize.less` sets `[hidden] { display: none; }` but bootstrap.min.css set `[hidden] { display: none !important; }` so we also need the `!important` here to be able to override the default hidden behavior on the sphinx rendered scikit-learn.org. See: https://github.com/scikit-learn/scikit-learn/issues/21755 */display: inline-block !important;position: relative;}#sk-container-id-1 div.sk-text-repr-fallback {display: none;}</style><div id=\"sk-container-id-1\" class=\"sk-top-container\"><div class=\"sk-text-repr-fallback\"><pre>RandomizedSearchCV(cv=5,\n",
       "                   estimator=Pipeline(steps=[(&#x27;clf&#x27;,\n",
       "                                              XGBClassifier(base_score=None,\n",
       "                                                            booster=None,\n",
       "                                                            callbacks=None,\n",
       "                                                            colsample_bylevel=None,\n",
       "                                                            colsample_bynode=None,\n",
       "                                                            colsample_bytree=None,\n",
       "                                                            early_stopping_rounds=None,\n",
       "                                                            enable_categorical=False,\n",
       "                                                            eval_metric=None,\n",
       "                                                            feature_types=None,\n",
       "                                                            gamma=None,\n",
       "                                                            gpu_id=None,\n",
       "                                                            grow_policy=None,\n",
       "                                                            importance_type=None,\n",
       "                                                            interaction_constra...\n",
       "                                        &#x27;clf__gamma&#x27;: [0.0, 0.1, 0.5, 1.0, 5.0,\n",
       "                                                       10.0],\n",
       "                                        &#x27;clf__learning_rate&#x27;: [0.001, 0.01, 0.1,\n",
       "                                                               0.2, 0.3],\n",
       "                                        &#x27;clf__max_depth&#x27;: [2, 4, 6, 8],\n",
       "                                        &#x27;clf__num_class&#x27;: [0, 1, 2, 3, 4, 5, 6,\n",
       "                                                           7, 8],\n",
       "                                        &#x27;clf__objective&#x27;: [&#x27;multi:softmax&#x27;,\n",
       "                                                           &#x27;multi:softprob&#x27;],\n",
       "                                        &#x27;clf__reg_alpha&#x27;: [0.0, 0.1, 0.5, 1.0,\n",
       "                                                           5.0, 10.0],\n",
       "                                        &#x27;clf__reg_lambda&#x27;: [0.0, 0.1, 0.5, 1.0,\n",
       "                                                            5.0, 10.0],\n",
       "                                        &#x27;clf__subsample&#x27;: [0.5, 0.6, 0.7, 0.8,\n",
       "                                                           0.9, 1.0]},\n",
       "                   random_state=8, scoring=&#x27;accuracy&#x27;)</pre><b>In a Jupyter environment, please rerun this cell to show the HTML representation or trust the notebook. <br />On GitHub, the HTML representation is unable to render, please try loading this page with nbviewer.org.</b></div><div class=\"sk-container\" hidden><div class=\"sk-item sk-dashed-wrapped\"><div class=\"sk-label-container\"><div class=\"sk-label sk-toggleable\"><input class=\"sk-toggleable__control sk-hidden--visually\" id=\"sk-estimator-id-1\" type=\"checkbox\" ><label for=\"sk-estimator-id-1\" class=\"sk-toggleable__label sk-toggleable__label-arrow\">RandomizedSearchCV</label><div class=\"sk-toggleable__content\"><pre>RandomizedSearchCV(cv=5,\n",
       "                   estimator=Pipeline(steps=[(&#x27;clf&#x27;,\n",
       "                                              XGBClassifier(base_score=None,\n",
       "                                                            booster=None,\n",
       "                                                            callbacks=None,\n",
       "                                                            colsample_bylevel=None,\n",
       "                                                            colsample_bynode=None,\n",
       "                                                            colsample_bytree=None,\n",
       "                                                            early_stopping_rounds=None,\n",
       "                                                            enable_categorical=False,\n",
       "                                                            eval_metric=None,\n",
       "                                                            feature_types=None,\n",
       "                                                            gamma=None,\n",
       "                                                            gpu_id=None,\n",
       "                                                            grow_policy=None,\n",
       "                                                            importance_type=None,\n",
       "                                                            interaction_constra...\n",
       "                                        &#x27;clf__gamma&#x27;: [0.0, 0.1, 0.5, 1.0, 5.0,\n",
       "                                                       10.0],\n",
       "                                        &#x27;clf__learning_rate&#x27;: [0.001, 0.01, 0.1,\n",
       "                                                               0.2, 0.3],\n",
       "                                        &#x27;clf__max_depth&#x27;: [2, 4, 6, 8],\n",
       "                                        &#x27;clf__num_class&#x27;: [0, 1, 2, 3, 4, 5, 6,\n",
       "                                                           7, 8],\n",
       "                                        &#x27;clf__objective&#x27;: [&#x27;multi:softmax&#x27;,\n",
       "                                                           &#x27;multi:softprob&#x27;],\n",
       "                                        &#x27;clf__reg_alpha&#x27;: [0.0, 0.1, 0.5, 1.0,\n",
       "                                                           5.0, 10.0],\n",
       "                                        &#x27;clf__reg_lambda&#x27;: [0.0, 0.1, 0.5, 1.0,\n",
       "                                                            5.0, 10.0],\n",
       "                                        &#x27;clf__subsample&#x27;: [0.5, 0.6, 0.7, 0.8,\n",
       "                                                           0.9, 1.0]},\n",
       "                   random_state=8, scoring=&#x27;accuracy&#x27;)</pre></div></div></div><div class=\"sk-parallel\"><div class=\"sk-parallel-item\"><div class=\"sk-item\"><div class=\"sk-label-container\"><div class=\"sk-label sk-toggleable\"><input class=\"sk-toggleable__control sk-hidden--visually\" id=\"sk-estimator-id-2\" type=\"checkbox\" ><label for=\"sk-estimator-id-2\" class=\"sk-toggleable__label sk-toggleable__label-arrow\">estimator: Pipeline</label><div class=\"sk-toggleable__content\"><pre>Pipeline(steps=[(&#x27;clf&#x27;,\n",
       "                 XGBClassifier(base_score=None, booster=None, callbacks=None,\n",
       "                               colsample_bylevel=None, colsample_bynode=None,\n",
       "                               colsample_bytree=None,\n",
       "                               early_stopping_rounds=None,\n",
       "                               enable_categorical=False, eval_metric=None,\n",
       "                               feature_types=None, gamma=None, gpu_id=None,\n",
       "                               grow_policy=None, importance_type=None,\n",
       "                               interaction_constraints=None, learning_rate=None,\n",
       "                               max_bin=None, max_cat_threshold=None,\n",
       "                               max_cat_to_onehot=None, max_delta_step=None,\n",
       "                               max_depth=None, max_leaves=None,\n",
       "                               min_child_weight=None, missing=nan,\n",
       "                               monotone_constraints=None, n_estimators=100,\n",
       "                               n_jobs=None, num_class=1, num_parallel_tree=None,\n",
       "                               objective=&#x27;multi:softmax&#x27;, ...))])</pre></div></div></div><div class=\"sk-serial\"><div class=\"sk-item\"><div class=\"sk-serial\"><div class=\"sk-item\"><div class=\"sk-estimator sk-toggleable\"><input class=\"sk-toggleable__control sk-hidden--visually\" id=\"sk-estimator-id-3\" type=\"checkbox\" ><label for=\"sk-estimator-id-3\" class=\"sk-toggleable__label sk-toggleable__label-arrow\">XGBClassifier</label><div class=\"sk-toggleable__content\"><pre>XGBClassifier(base_score=None, booster=None, callbacks=None,\n",
       "              colsample_bylevel=None, colsample_bynode=None,\n",
       "              colsample_bytree=None, early_stopping_rounds=None,\n",
       "              enable_categorical=False, eval_metric=None, feature_types=None,\n",
       "              gamma=None, gpu_id=None, grow_policy=None, importance_type=None,\n",
       "              interaction_constraints=None, learning_rate=None, max_bin=None,\n",
       "              max_cat_threshold=None, max_cat_to_onehot=None,\n",
       "              max_delta_step=None, max_depth=None, max_leaves=None,\n",
       "              min_child_weight=None, missing=nan, monotone_constraints=None,\n",
       "              n_estimators=100, n_jobs=None, num_class=1,\n",
       "              num_parallel_tree=None, objective=&#x27;multi:softmax&#x27;, ...)</pre></div></div></div></div></div></div></div></div></div></div></div></div>"
      ],
      "text/plain": [
       "RandomizedSearchCV(cv=5,\n",
       "                   estimator=Pipeline(steps=[('clf',\n",
       "                                              XGBClassifier(base_score=None,\n",
       "                                                            booster=None,\n",
       "                                                            callbacks=None,\n",
       "                                                            colsample_bylevel=None,\n",
       "                                                            colsample_bynode=None,\n",
       "                                                            colsample_bytree=None,\n",
       "                                                            early_stopping_rounds=None,\n",
       "                                                            enable_categorical=False,\n",
       "                                                            eval_metric=None,\n",
       "                                                            feature_types=None,\n",
       "                                                            gamma=None,\n",
       "                                                            gpu_id=None,\n",
       "                                                            grow_policy=None,\n",
       "                                                            importance_type=None,\n",
       "                                                            interaction_constra...\n",
       "                                        'clf__gamma': [0.0, 0.1, 0.5, 1.0, 5.0,\n",
       "                                                       10.0],\n",
       "                                        'clf__learning_rate': [0.001, 0.01, 0.1,\n",
       "                                                               0.2, 0.3],\n",
       "                                        'clf__max_depth': [2, 4, 6, 8],\n",
       "                                        'clf__num_class': [0, 1, 2, 3, 4, 5, 6,\n",
       "                                                           7, 8],\n",
       "                                        'clf__objective': ['multi:softmax',\n",
       "                                                           'multi:softprob'],\n",
       "                                        'clf__reg_alpha': [0.0, 0.1, 0.5, 1.0,\n",
       "                                                           5.0, 10.0],\n",
       "                                        'clf__reg_lambda': [0.0, 0.1, 0.5, 1.0,\n",
       "                                                            5.0, 10.0],\n",
       "                                        'clf__subsample': [0.5, 0.6, 0.7, 0.8,\n",
       "                                                           0.9, 1.0]},\n",
       "                   random_state=8, scoring='accuracy')"
      ]
     },
     "execution_count": 5,
     "metadata": {},
     "output_type": "execute_result"
    }
   ],
   "source": [
    "opt"
   ]
  },
  {
   "cell_type": "code",
   "execution_count": 6,
   "metadata": {},
   "outputs": [
    {
     "name": "stdout",
     "output_type": "stream",
     "text": [
      "Accuracy for 3 class problem using XGBoost classifier: 0.6882640586797066\n",
      "AUC for 3 class problem using XGBoost classifier: 0.7527385116151324\n",
      "              precision    recall  f1-score   support\n",
      "\n",
      "         0.0       0.73      0.65      0.69       950\n",
      "         1.0       0.61      0.78      0.69      1378\n",
      "         2.0       0.85      0.59      0.70       944\n",
      "\n",
      "    accuracy                           0.69      3272\n",
      "   macro avg       0.73      0.67      0.69      3272\n",
      "weighted avg       0.71      0.69      0.69      3272\n",
      "\n"
     ]
    }
   ],
   "source": [
    "opt.fit(X_train, y_train)\n",
    "joblib.dump(opt, 'model/model_xgboost_data_d1_d2.pkl')\n",
    "\n",
    "y_pred = opt.predict(X_test)\n",
    "print('Accuracy for 3 class problem using XGBoost classifier:', accuracy_score(y_test, y_pred, normalize=True))\n",
    "# Assuming you have the implementation of multiclass_roc_auc_score function\n",
    "print('AUC for 3 class problem using XGBoost classifier:', multiclass_roc_auc_score(y_test, y_pred))\n",
    "print(classification_report(y_test, y_pred))"
   ]
  },
  {
   "cell_type": "code",
   "execution_count": 2,
   "metadata": {},
   "outputs": [],
   "source": [
    "opt = joblib.load('model/model_xgboost_data_d1_d2.pkl')\n",
    "best_model = opt.best_estimator_.steps[0][1]"
   ]
  },
  {
   "cell_type": "code",
   "execution_count": 3,
   "metadata": {},
   "outputs": [
    {
     "data": {
      "text/plain": [
       "{'clf__subsample': 0.5,\n",
       " 'clf__reg_lambda': 0.5,\n",
       " 'clf__reg_alpha': 1.0,\n",
       " 'clf__objective': 'multi:softmax',\n",
       " 'clf__num_class': 4,\n",
       " 'clf__max_depth': 4,\n",
       " 'clf__learning_rate': 0.001,\n",
       " 'clf__gamma': 5.0,\n",
       " 'clf__colsample_bytree': 0.7,\n",
       " 'clf__colsample_bynode': 0.8,\n",
       " 'clf__colsample_bylevel': 0.8}"
      ]
     },
     "execution_count": 3,
     "metadata": {},
     "output_type": "execute_result"
    }
   ],
   "source": [
    "opt.best_params_"
   ]
  },
  {
   "cell_type": "markdown",
   "metadata": {},
   "source": [
    "70-30  \n",
    "Accuracy for 3 class problem using XGBoost classifier: 0.68071000855432  \n",
    "AUC for 3 class problem using XGBoost classifier: 0.7488851164032369  \n",
    "```\n",
    "              precision    recall  f1-score   support\n",
    "\n",
    "         0.0       0.73      0.67      0.70      1427\n",
    "         1.0       0.60      0.75      0.67      1946\n",
    "         2.0       0.81      0.59      0.68      1303\n",
    "\n",
    "    accuracy                           0.68      4676\n",
    "   macro avg       0.71      0.67      0.68      4676\n",
    "weighted avg       0.70      0.68      0.68      4676   ```"
   ]
  },
  {
   "cell_type": "markdown",
   "metadata": {},
   "source": []
  }
 ],
 "metadata": {
  "kernelspec": {
   "display_name": "xgb",
   "language": "python",
   "name": "python3"
  },
  "language_info": {
   "codemirror_mode": {
    "name": "ipython",
    "version": 3
   },
   "file_extension": ".py",
   "mimetype": "text/x-python",
   "name": "python",
   "nbconvert_exporter": "python",
   "pygments_lexer": "ipython3",
   "version": "3.8.18"
  }
 },
 "nbformat": 4,
 "nbformat_minor": 2
}
